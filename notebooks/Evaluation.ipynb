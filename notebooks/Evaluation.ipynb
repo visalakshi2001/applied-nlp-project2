{
 "cells": [
  {
   "cell_type": "code",
   "execution_count": 3,
   "id": "7330d6fd-fe59-402e-8c37-615d8e59d191",
   "metadata": {},
   "outputs": [],
   "source": [
    "import pandas as pd\n",
    "import json"
   ]
  },
  {
   "cell_type": "code",
   "execution_count": 5,
   "id": "2ca41acf-3f13-4b4b-b0ff-a22ad0a1d99b",
   "metadata": {},
   "outputs": [],
   "source": [
    "responses = pd.read_json('zero_shot_responses.jsonl', lines=True)"
   ]
  },
  {
   "cell_type": "code",
   "execution_count": 17,
   "id": "839b96b2-a479-49a9-8408-852a1d64d405",
   "metadata": {},
   "outputs": [],
   "source": [
    "responses_unique = responses[~responses['question'].duplicated()].reset_index(drop=True)"
   ]
  },
  {
   "cell_type": "code",
   "execution_count": 18,
   "id": "5f0d8af8-8544-491a-9ccb-a3c0cc34bc2d",
   "metadata": {},
   "outputs": [],
   "source": [
    "evaluatedf = pd.DataFrame()\n",
    "evaluatedf['question'] = responses_unique['question']\n",
    "\n",
    "\n",
    "evaluatedf['deberta'] = responses_unique[['answer', 'deberta']].apply(lambda x: x['answer'] in x['deberta'], axis=1)\n",
    "evaluatedf['gpt3.5'] = responses_unique[['answer', 'gpt3.5']].apply(lambda x: x['answer'] in x['gpt3.5'], axis=1)\n",
    "evaluatedf['gpt4o'] = responses_unique[['answer', 'gpt4o']].apply(lambda x: x['answer'] in x['gpt4o'], axis=1)\n",
    "evaluatedf['commandr'] = responses_unique[['answer', 'commandr']].apply(lambda x: x['answer'] in x['commandr'], axis=1)"
   ]
  },
  {
   "cell_type": "code",
   "execution_count": 19,
   "id": "e264839d-16b0-457d-a982-d7a3c4a175fb",
   "metadata": {},
   "outputs": [
    {
     "data": {
      "text/plain": [
       "49"
      ]
     },
     "metadata": {},
     "output_type": "display_data"
    },
    {
     "data": {
      "text/plain": [
       "deberta     11\n",
       "gpt3.5      34\n",
       "gpt4o       40\n",
       "commandr    27\n",
       "dtype: int64"
      ]
     },
     "execution_count": 19,
     "metadata": {},
     "output_type": "execute_result"
    }
   ],
   "source": [
    "display(evaluatedf['question'].count())\n",
    "evaluatedf[['deberta', 'gpt3.5', 'gpt4o', 'commandr']].sum()"
   ]
  }
 ],
 "metadata": {
  "kernelspec": {
   "display_name": "nlpproj_py310",
   "language": "python",
   "name": "nlpproj"
  },
  "language_info": {
   "codemirror_mode": {
    "name": "ipython",
    "version": 3
   },
   "file_extension": ".py",
   "mimetype": "text/x-python",
   "name": "python",
   "nbconvert_exporter": "python",
   "pygments_lexer": "ipython3",
   "version": "3.10.12"
  }
 },
 "nbformat": 4,
 "nbformat_minor": 5
}
